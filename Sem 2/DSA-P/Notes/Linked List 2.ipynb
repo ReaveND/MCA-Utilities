{
 "cells": [
  {
   "cell_type": "code",
   "execution_count": 1,
   "id": "c990c988-07fd-46cb-b4d7-28af03ea12c9",
   "metadata": {},
   "outputs": [
    {
     "name": "stdout",
     "output_type": "stream",
     "text": [
      "\n",
      "Nothing to Display!\n",
      "\n",
      "Elements in the linked list are:\n",
      "10 20 30 \n",
      "Elements in the linked list are:\n",
      "25 10 20 30 \n",
      "Deleted Element is: 25\n",
      "\n",
      "Elements in the linked list are:\n",
      "10 20 30 "
     ]
    }
   ],
   "source": [
    "class Node:\n",
    "    def __init__(self,data):\n",
    "        self.info=data\n",
    "        self.link=None\n",
    "class Single_Linked_List:\n",
    "    def __init__(self):\n",
    "        self.head=None\n",
    "        self.tmp=None\n",
    "    def create(self,item):\n",
    "        new_node=Node(item)\n",
    "        if self.head is None:\n",
    "            self.head=new_node\n",
    "            self.tmp=self.head\n",
    "        else:\n",
    "            self.tmp.link=new_node\n",
    "            self.tmp=self.tmp.link\n",
    "    def insert_at_beg(self,item):\n",
    "        new_node=Node(item)\n",
    "        if self.head is None:\n",
    "            self.head=new_node\n",
    "            return\n",
    "        else:\n",
    "            new_node.link=self.head\n",
    "            self.head=new_node\n",
    "    def delete_from_beg(self):\n",
    "        if self.head is None:\n",
    "            print(\"\\nNothing to Delete!\")\n",
    "            return\n",
    "        tmp=self.head\n",
    "        x=tmp.info\n",
    "        self.head=self.head.link\n",
    "        tmp=None\n",
    "        return x\n",
    "    def display(self):\n",
    "        if self.head is None:\n",
    "            print(\"\\nNothing to Display!\")\n",
    "            return\n",
    "        tmp=self.head\n",
    "        print(\"\\nElements in the linked list are:\")\n",
    "        while tmp is not None:\n",
    "            print(tmp.info,end=\" \")\n",
    "            tmp=tmp.link\n",
    "            \n",
    "if __name__==\"__main__\":\n",
    "    sl=Single_Linked_List()\n",
    "    sl.display()\n",
    "    sl.create(10)\n",
    "    sl.create(20)\n",
    "    sl.create(30)\n",
    "    sl.display()\n",
    "    sl.insert_at_beg(25)\n",
    "    sl.display()\n",
    "    r1=sl.delete_from_beg()\n",
    "    print(\"\\nDeleted Element is:\",r1)\n",
    "    sl.display()"
   ]
  }
 ],
 "metadata": {
  "kernelspec": {
   "display_name": "Python 3 (ipykernel)",
   "language": "python",
   "name": "python3"
  },
  "language_info": {
   "codemirror_mode": {
    "name": "ipython",
    "version": 3
   },
   "file_extension": ".py",
   "mimetype": "text/x-python",
   "name": "python",
   "nbconvert_exporter": "python",
   "pygments_lexer": "ipython3",
   "version": "3.12.7"
  }
 },
 "nbformat": 4,
 "nbformat_minor": 5
}
