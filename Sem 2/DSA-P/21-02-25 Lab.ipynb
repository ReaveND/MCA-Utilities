{
 "cells": [
  {
   "cell_type": "code",
   "execution_count": 5,
   "id": "e5253364-d441-466b-ad84-01c4205ff464",
   "metadata": {},
   "outputs": [],
   "source": [
    "class Circular_Queue:\n",
    "    def __init__(self, Max):\n",
    "        self.size=Max\n",
    "        self.queue=[None]*Max\n",
    "        self.front=self.rear=-1\n",
    "\n",
    "    def enqueue(self,item):\n",
    "        if(self.front==(self.rear+1)% self.size):\n",
    "            print(\"\\nCircular Queue is Full!\")\n",
    "        elif(self.front==-1):\n",
    "            self.front=self.rear=0\n",
    "            self.queue=[self.rear]=item\n",
    "        else:\n",
    "            self.rear=(self.rear+1)%self.size\n",
    "            self.queue[self.rear]=item\n",
    "\n",
    "    def dequeue(self):\n",
    "        if(self.front==-1):\n",
    "            print(\"\\nCircular Queue is Empty.\")\n",
    "        elif (self.front==self.rear):\n",
    "            x=self.queue[self.front]\n",
    "            self.front=self.rear=-1\n",
    "            return x\n",
    "        else:\n",
    "            x=self.queue[self.front]\n",
    "            self.front=(self.front+1) % self.size\n",
    "            return x\n",
    "\n",
    "    def display(self):\n",
    "        if(self.front==-1):\n",
    "            print(\"\\nCircular Queue is Empty!\")\n",
    "        elif(self.rear>=self.front):\n",
    "            print(\"\\nElements in the Circular Queue are: \")\n",
    "            for i in range(self.front,self.rear+1):\n",
    "                print(self.queue[i], end=\" \")\n",
    "            else:\n",
    "                print(\"\\n Elements in the Cicular Queue are: \")\n",
    "                for i in range(self.front,self.size):\n",
    "                    print(self.queue[i], end=\" \")\n",
    "                for i in range(0, self.rear+1):\n",
    "                    print(self.queue[i], end=\" \")\n",
    "\n",
    "if __name__==\"__main__\":\n",
    "    cq=Circular_Queue(6)\n",
    "    "
   ]
  }
 ],
 "metadata": {
  "kernelspec": {
   "display_name": "Python 3 (ipykernel)",
   "language": "python",
   "name": "python3"
  },
  "language_info": {
   "codemirror_mode": {
    "name": "ipython",
    "version": 3
   },
   "file_extension": ".py",
   "mimetype": "text/x-python",
   "name": "python",
   "nbconvert_exporter": "python",
   "pygments_lexer": "ipython3",
   "version": "3.12.7"
  }
 },
 "nbformat": 4,
 "nbformat_minor": 5
}
