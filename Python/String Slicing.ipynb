{
 "cells": [
  {
   "cell_type": "code",
   "execution_count": 1,
   "id": "d61914d2-d6f9-4e6e-8554-3696431ace07",
   "metadata": {},
   "outputs": [
    {
     "name": "stdout",
     "output_type": "stream",
     "text": [
      "python\n"
     ]
    }
   ],
   "source": [
    "st=\"python\"\n",
    "print(st)"
   ]
  },
  {
   "cell_type": "code",
   "execution_count": 25,
   "id": "be1c1824-c4c1-4935-af6c-0ae9c699d6d8",
   "metadata": {},
   "outputs": [
    {
     "data": {
      "text/plain": [
       "'python'"
      ]
     },
     "execution_count": 25,
     "metadata": {},
     "output_type": "execute_result"
    }
   ],
   "source": [
    "#String Slicing\n",
    "# p y t h o n -> String\n",
    "# 0 1 2 3 4 5 -> Index Posn\n",
    "st[0:6:]  #Staring from 0th index and ending to 5th index(n-1)"
   ]
  },
  {
   "cell_type": "code",
   "execution_count": 9,
   "id": "0ae96476-230f-4298-b742-6b202dbff9b7",
   "metadata": {},
   "outputs": [
    {
     "data": {
      "text/plain": [
       "'python'"
      ]
     },
     "execution_count": 9,
     "metadata": {},
     "output_type": "execute_result"
    }
   ],
   "source": [
    "st[::]"
   ]
  },
  {
   "cell_type": "code",
   "execution_count": 37,
   "id": "84d7f10d-0744-46f9-9b0a-25dcb8ba5525",
   "metadata": {},
   "outputs": [
    {
     "data": {
      "text/plain": [
       "'pytho'"
      ]
     },
     "execution_count": 37,
     "metadata": {},
     "output_type": "execute_result"
    }
   ],
   "source": [
    "st[:5:]   #Prints till 4th index"
   ]
  },
  {
   "cell_type": "code",
   "execution_count": 31,
   "id": "20e74617-e760-455e-99c4-8e512626ba71",
   "metadata": {},
   "outputs": [
    {
     "data": {
      "text/plain": [
       "'tho'"
      ]
     },
     "execution_count": 31,
     "metadata": {},
     "output_type": "execute_result"
    }
   ],
   "source": [
    "st[2:5:]  #Starting from 2nd index and print till 4th index."
   ]
  },
  {
   "cell_type": "code",
   "execution_count": 39,
   "id": "fcfaef16-aea6-4107-b2d2-262eb5149810",
   "metadata": {},
   "outputs": [
    {
     "data": {
      "text/plain": [
       "'nohtyp'"
      ]
     },
     "execution_count": 39,
     "metadata": {},
     "output_type": "execute_result"
    }
   ],
   "source": [
    "st[::-1]  #Prints the reverse of the whole string."
   ]
  },
  {
   "cell_type": "code",
   "execution_count": 41,
   "id": "7c4b66fc-f755-4500-82ff-e53f4705a694",
   "metadata": {},
   "outputs": [
    {
     "data": {
      "text/plain": [
       "'pto'"
      ]
     },
     "execution_count": 41,
     "metadata": {},
     "output_type": "execute_result"
    }
   ],
   "source": [
    "st[::2]   #Takes every second character from start to end of string."
   ]
  },
  {
   "cell_type": "code",
   "execution_count": 43,
   "id": "4d22e2b1-6148-4397-8d37-00b40891ed19",
   "metadata": {},
   "outputs": [
    {
     "data": {
      "text/plain": [
       "'ph'"
      ]
     },
     "execution_count": 43,
     "metadata": {},
     "output_type": "execute_result"
    }
   ],
   "source": [
    "st[::3]   #Takes every second character from start to end of string."
   ]
  },
  {
   "cell_type": "code",
   "execution_count": 45,
   "id": "fb0d49f7-fff9-44c7-b6f6-64a41f48fd9b",
   "metadata": {},
   "outputs": [
    {
     "data": {
      "text/plain": [
       "'nhy'"
      ]
     },
     "execution_count": 45,
     "metadata": {},
     "output_type": "execute_result"
    }
   ],
   "source": [
    "st[::-2]  #It will move backward, skipping one character each time."
   ]
  },
  {
   "cell_type": "code",
   "execution_count": 60,
   "id": "f2015981-ecc3-4ba5-bdcb-a01145417f47",
   "metadata": {},
   "outputs": [
    {
     "data": {
      "text/plain": [
       "''"
      ]
     },
     "execution_count": 60,
     "metadata": {},
     "output_type": "execute_result"
    }
   ],
   "source": [
    "st[-2:-4:]\n",
    "#When step is positive (or default, which is also positive), slicing proceeds forward. However:\n",
    "#Slicing stops when the start index is equal to or greater than the stop index. Since -2 > -4 and \n",
    "#the step is positive, the slice cannot proceed forward.\n",
    "\n",
    "#The Step must be in negative format for this to print."
   ]
  },
  {
   "cell_type": "code",
   "execution_count": 62,
   "id": "2e5bede5-c44a-4f32-ac11-9a8caccb365b",
   "metadata": {},
   "outputs": [
    {
     "data": {
      "text/plain": [
       "'oh'"
      ]
     },
     "execution_count": 62,
     "metadata": {},
     "output_type": "execute_result"
    }
   ],
   "source": [
    "st[-2:-4:-1]\n",
    "#Starts from -2th index and stops before reaching -4th index from reverse."
   ]
  }
 ],
 "metadata": {
  "kernelspec": {
   "display_name": "Python 3 (ipykernel)",
   "language": "python",
   "name": "python3"
  },
  "language_info": {
   "codemirror_mode": {
    "name": "ipython",
    "version": 3
   },
   "file_extension": ".py",
   "mimetype": "text/x-python",
   "name": "python",
   "nbconvert_exporter": "python",
   "pygments_lexer": "ipython3",
   "version": "3.12.7"
  }
 },
 "nbformat": 4,
 "nbformat_minor": 5
}
