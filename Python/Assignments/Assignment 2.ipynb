{
 "cells": [
  {
   "cell_type": "code",
   "execution_count": 1,
   "id": "c405f1cb-d65d-4e86-ac80-4005e1f00d1f",
   "metadata": {},
   "outputs": [
    {
     "name": "stdout",
     "output_type": "stream",
     "text": [
      "\n",
      " Elements in the list are:12 21 13 31 14 41 15 \n",
      " Elements in the list in sorted order are: 12 13 14 15 21 31 41 "
     ]
    }
   ],
   "source": [
    "# Q.1. WAP to implement Selection Sort.\n",
    "\n",
    "def selectionsort(ls):\n",
    "    n=len(ls)\n",
    "    for i in range(n):\n",
    "        min=ls[i]\n",
    "        loc=i\n",
    "        for j in range(i+1,n):\n",
    "            if(ls[j]< min):\n",
    "                min=ls[j]\n",
    "                loc=j\n",
    "            if(loc!=i):\n",
    "                temp=ls[i]\n",
    "                ls[i]=ls[loc]\n",
    "                ls[loc]=temp\n",
    "\n",
    "if __name__ ==\"__main__\":\n",
    "    ls=[12,21,13,31,14,41,15]\n",
    "    n=len(ls)\n",
    "    print(\"\\n Elements in the list are:\",end=\"\")\n",
    "    for i  in range(n):\n",
    "        print(ls[i],end=\" \")\n",
    "    selectionsort(ls)\n",
    "    print(\"\\n Elements in the list in sorted order are:\",end=\" \")\n",
    "    for i in range(n):\n",
    "        print(ls[i],end=\" \")"
   ]
  },
  {
   "cell_type": "code",
   "execution_count": 3,
   "id": "e6d25887-fcd8-4eaa-a383-2dfb3368993c",
   "metadata": {},
   "outputs": [
    {
     "name": "stdin",
     "output_type": "stream",
     "text": [
      "Enter the elements for sorting:  5 10 8 7 6 9 4 1 2\n"
     ]
    },
    {
     "name": "stdout",
     "output_type": "stream",
     "text": [
      "\n",
      "Elements in the list are: 5 10 8 7 6 9 4 1 2 \n",
      "Elements in the list in sorted order are: 1 2 4 5 6 7 8 9 10 "
     ]
    }
   ],
   "source": [
    "# Q.2. WAP to implement Bubble Sort.\n",
    "\n",
    "def bubblesort(ls):\n",
    "    n = len(ls)\n",
    "    for i in range(n):\n",
    "        for j in range(0, n-i-1):\n",
    "            if ls[j] > ls[j+1]:\n",
    "                ls[j], ls[j+1] = ls[j+1], ls[j]\n",
    "\n",
    "if __name__ == \"__main__\":\n",
    "    ls = list(map(int, input(\"Enter the elements for sorting: \").split()))\n",
    "    n = len(ls)\n",
    "\n",
    "    print(\"\\nElements in the list are:\", end=\" \")\n",
    "    for i in range(n):\n",
    "        print(ls[i], end=\" \")\n",
    "\n",
    "    bubblesort(ls)\n",
    "    print(\"\\nElements in the list in sorted order are:\", end=\" \")\n",
    "    for i in range(n):\n",
    "        print(ls[i], end=\" \")"
   ]
  },
  {
   "cell_type": "code",
   "execution_count": 7,
   "id": "9c14e6cd-23bf-46aa-ab72-4c4413487a19",
   "metadata": {},
   "outputs": [
    {
     "name": "stdin",
     "output_type": "stream",
     "text": [
      "Enter two numbers: 48 18\n"
     ]
    },
    {
     "name": "stdout",
     "output_type": "stream",
     "text": [
      "GCD of 48 and 18 is 6\n"
     ]
    }
   ],
   "source": [
    "#Q.3. Python program to find GCD of two numbers using recursion.\n",
    "\n",
    "def gcd(a,b):\n",
    "    if b==0:\n",
    "        return a\n",
    "    else:\n",
    "        return gcd(b,a%b)\n",
    "\n",
    "if __name__==\"__main__\":\n",
    "    a,b=[int(c) for c in input (\"Enter two numbers:\").split()]\n",
    "    r=gcd(a,b)\n",
    "    print(\"GCD of %d and %d is %d\" %(a,b,r))"
   ]
  },
  {
   "cell_type": "code",
   "execution_count": 15,
   "id": "5ba70930-20ec-4b93-80f1-71957338e7fc",
   "metadata": {},
   "outputs": [
    {
     "name": "stdin",
     "output_type": "stream",
     "text": [
      "Enter a number: 10\n"
     ]
    },
    {
     "name": "stdout",
     "output_type": "stream",
     "text": [
      "0 1 1 2 3 5 8 13 21 34 "
     ]
    }
   ],
   "source": [
    "#Q.4. Write a Python program to find the Fibonacci Series using recursion.\n",
    "\n",
    "def fibonacci(n):\n",
    "    if n<=0:\n",
    "        return 0\n",
    "    elif n==1:\n",
    "        return 1\n",
    "    else:\n",
    "        return fibonacci(n-1)+ fibonacci(n-2)\n",
    "\n",
    "if __name__==\"__main__\":\n",
    "    num=int(input(\"Enter a number:\"))\n",
    "    for i in range(num):\n",
    "        print(fibonacci(i),end=\" \")"
   ]
  },
  {
   "cell_type": "code",
   "execution_count": 17,
   "id": "df5ee4a2-3657-45a1-9e1b-b138caafa61c",
   "metadata": {},
   "outputs": [
    {
     "name": "stdin",
     "output_type": "stream",
     "text": [
      "Enter Your Name: rupak\n"
     ]
    },
    {
     "name": "stdout",
     "output_type": "stream",
     "text": [
      "{'r': 1, 'u': 1, 'p': 1, 'a': 1, 'k': 1}\n",
      "The Highest Frequency Letter is: r\n"
     ]
    }
   ],
   "source": [
    "#Q.5. Write a Python program to find the highest frequency character in your name.\n",
    "\n",
    "st=input(\"Enter Your Name:\")\n",
    "dt={}\n",
    "for i in st:\n",
    "    if i in dt:\n",
    "        dt[i]+=1\n",
    "    else:\n",
    "        dt[i]=1\n",
    "print(dt)\n",
    "largest=max(dt,key=dt.get)\n",
    "print(\"The Highest Frequency Letter is:\",largest)"
   ]
  },
  {
   "cell_type": "code",
   "execution_count": 21,
   "id": "0eefcef7-e692-4890-b306-ad46c6b0948a",
   "metadata": {},
   "outputs": [
    {
     "name": "stdout",
     "output_type": "stream",
     "text": [
      "The given list is: [1, 2, 3, 4, 5, 6, 7, 8, 9, 10, 11, 12, 13, 14, 15, 16, 17, 18, 19, 20]\n",
      "Even numbers are: [2, 4, 6, 8, 10, 12, 14, 16, 18, 20]\n",
      "Odd numbers are: [1, 3, 5, 7, 9, 11, 13, 15, 17, 19]\n"
     ]
    }
   ],
   "source": [
    "#Q.6. Write a Python program to take a list of numbers as \n",
    "#input and store the even and odd numbers separately into different \n",
    "#lists using the lambda function.\n",
    "\n",
    "ls=[x for x in range(1,21)]\n",
    "even=list(filter(lambda x:(x%2==0),ls))\n",
    "odd=list(filter(lambda x:(x%2!=0),ls))\n",
    "print(\"The given list is:\",ls)\n",
    "print(\"Even numbers are:\",even)\n",
    "print(\"Odd numbers are:\",odd)"
   ]
  }
 ],
 "metadata": {
  "kernelspec": {
   "display_name": "Python 3 (ipykernel)",
   "language": "python",
   "name": "python3"
  },
  "language_info": {
   "codemirror_mode": {
    "name": "ipython",
    "version": 3
   },
   "file_extension": ".py",
   "mimetype": "text/x-python",
   "name": "python",
   "nbconvert_exporter": "python",
   "pygments_lexer": "ipython3",
   "version": "3.12.7"
  }
 },
 "nbformat": 4,
 "nbformat_minor": 5
}
