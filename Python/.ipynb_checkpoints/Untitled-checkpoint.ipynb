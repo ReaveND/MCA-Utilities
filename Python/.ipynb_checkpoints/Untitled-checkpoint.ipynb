{
 "cells": [
  {
   "cell_type": "code",
   "execution_count": 5,
   "id": "5320d2c8-7083-4a00-aa99-c1fca9ecdeef",
   "metadata": {},
   "outputs": [
    {
     "name": "stdin",
     "output_type": "stream",
     "text": [
      "Enter the word to check:  rupak\n"
     ]
    },
    {
     "name": "stdout",
     "output_type": "stream",
     "text": [
      "Letter frequencies: [['r', 1], ['u', 1], ['p', 1], ['a', 1], ['k', 1]]\n"
     ]
    }
   ],
   "source": [
    "# WAP to count the occurence of each character in your name.\n",
    "st = input(\"Enter the word to check: \")\n",
    "freq = []\n",
    "for i in st:\n",
    "    for c in freq:\n",
    "        if c[0]==i:\n",
    "            c[1]+=1  \n",
    "            break\n",
    "    else:\n",
    "        freq.append([i,1])\n",
    "\n",
    "print(\"Letter frequencies:\",freq)"
   ]
  },
  {
   "cell_type": "code",
   "execution_count": 7,
   "id": "1ef94bbd-ad99-4611-9a84-5893c6e8b1b9",
   "metadata": {},
   "outputs": [
    {
     "name": "stdout",
     "output_type": "stream",
     "text": [
      "The sorted array is:  [2, 4, 10, 38, 72]\n"
     ]
    }
   ],
   "source": [
    "#Q.2. WAP to implement Selection Sort.\n",
    "\n",
    "def selection_sort(array):  \n",
    "        length = len(array)  \n",
    "        for i in range(length-1):  \n",
    "            minIndex = i  \n",
    "            for j in range(i+1, length):  \n",
    "                if array[j]<array[minIndex]:  \n",
    "                    minIndex = j  \n",
    "            array[i], array[minIndex] = array[minIndex], array[i]  \n",
    "        return array      \n",
    "array = [72,4,10,38,2]  \n",
    "print(\"The sorted array is: \", selection_sort(array))"
   ]
  },
  {
   "cell_type": "code",
   "execution_count": 9,
   "id": "a4922074-cc54-4f8f-90c2-54a1ecd8f7c5",
   "metadata": {},
   "outputs": [
    {
     "name": "stdin",
     "output_type": "stream",
     "text": [
      "Enter the number to check:  145\n"
     ]
    },
    {
     "name": "stdout",
     "output_type": "stream",
     "text": [
      "145 is a Krishnamurthy Number.\n"
     ]
    }
   ],
   "source": [
    "#Q.3. WAP to check whether a number is Krishnamurthy or not.\n",
    "\n",
    "def factorial(n):                      \n",
    "    fact=1\n",
    "    for i in range(1,(n+1)):\n",
    "        fact=fact*i\n",
    "    return fact\n",
    "\n",
    "if __name__== \"__main__\":       \n",
    "    n=int(input(\"Enter the number to check: \"))\n",
    "    s=0\n",
    "    temp=n\n",
    "    while(n!=0):\n",
    "        r=n%10    \n",
    "        s=s+factorial(r)\n",
    "        n=n//10   \n",
    "    if(s==temp):\n",
    "        print(\"%d is a Krishnamurthy Number.\"%temp)\n",
    "    else:\n",
    "        print(\"%d is not a Krishnamurthy Number.\"%temp)"
   ]
  },
  {
   "cell_type": "code",
   "execution_count": 11,
   "id": "3c882285-2cc3-42bd-952d-9a37b98f425a",
   "metadata": {},
   "outputs": [
    {
     "name": "stdin",
     "output_type": "stream",
     "text": [
      "Enter a string:  madam\n"
     ]
    },
    {
     "name": "stdout",
     "output_type": "stream",
     "text": [
      "madam is a Palindrome String.\n"
     ]
    }
   ],
   "source": [
    "#Q.4. WAP to check whether a given string is palindrome or not.\n",
    "\n",
    "str1 = input(\"Enter a string: \")\n",
    "\n",
    "str2 = str1.replace(\" \", \"\").lower()\n",
    "\n",
    "if str2 == str2[::-1]:\n",
    "    print(f\"{str1} is a Palindrome String.\")\n",
    "else:\n",
    "    print(f\"{str1} is not a Palindrome String.\")"
   ]
  },
  {
   "cell_type": "code",
   "execution_count": 15,
   "id": "2abd709c-c596-477c-b1eb-96623438bd01",
   "metadata": {},
   "outputs": [
    {
     "name": "stdin",
     "output_type": "stream",
     "text": [
      "Enter the number to check:  153\n"
     ]
    },
    {
     "name": "stdout",
     "output_type": "stream",
     "text": [
      "153 is a Armstrong Number.\n"
     ]
    }
   ],
   "source": [
    "#Q.6. Write a python program to check whether a number is Armstrong or not.\n",
    "\n",
    "n=int(input(\"Enter the number to check: \"))\n",
    "temp=n\n",
    "cnt=0\n",
    "s=0\n",
    "while(n!=0):\n",
    "    cnt=cnt+1\n",
    "    n=n//10\n",
    "n=temp\n",
    "\n",
    "while(n!=0):\n",
    "    r=n%10\n",
    "    s=s+r**cnt\n",
    "    n=n//10\n",
    "\n",
    "if(temp==s):\n",
    "    print(\"%d is a Armstrong Number.\"%temp)\n",
    "else:\n",
    "    print(\"%d is not a Armstrong Number.\"%temp)"
   ]
  },
  {
   "cell_type": "code",
   "execution_count": null,
   "id": "72d50107-cf0b-4a2d-8ce4-f7927176b572",
   "metadata": {},
   "outputs": [],
   "source": []
  }
 ],
 "metadata": {
  "kernelspec": {
   "display_name": "Python 3 (ipykernel)",
   "language": "python",
   "name": "python3"
  },
  "language_info": {
   "codemirror_mode": {
    "name": "ipython",
    "version": 3
   },
   "file_extension": ".py",
   "mimetype": "text/x-python",
   "name": "python",
   "nbconvert_exporter": "python",
   "pygments_lexer": "ipython3",
   "version": "3.12.7"
  }
 },
 "nbformat": 4,
 "nbformat_minor": 5
}
