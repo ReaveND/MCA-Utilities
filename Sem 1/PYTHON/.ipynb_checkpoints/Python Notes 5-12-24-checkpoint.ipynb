{
 "cells": [
  {
   "cell_type": "code",
   "execution_count": 5,
   "id": "4b0a5ee5-82d5-4014-b2c3-1b47907123c2",
   "metadata": {},
   "outputs": [
    {
     "name": "stdout",
     "output_type": "stream",
     "text": [
      "20\n"
     ]
    }
   ],
   "source": [
    "#PYTHON NOTES 5-12-24\n",
    "\n",
    "#GET\n",
    "#this function helps us to find the value for a specific key.\n",
    "\n",
    "dt={'A':10, 'B':20, 'C':30}\n",
    "x=dt.get('B')\n",
    "print(x)"
   ]
  },
  {
   "cell_type": "code",
   "execution_count": 3,
   "id": "9c2e57ce-fdf9-4c33-bc04-713a44c01edd",
   "metadata": {},
   "outputs": [
    {
     "name": "stdout",
     "output_type": "stream",
     "text": [
      "C\n"
     ]
    }
   ],
   "source": [
    "# How to get the key for maximum value in the dictionary.\n",
    "\n",
    "y=max(dt, key=dt.get)\n",
    "print(y)"
   ]
  },
  {
   "cell_type": "code",
   "execution_count": 11,
   "id": "4500f8ea-ca67-49ac-80ed-3e0c901409db",
   "metadata": {},
   "outputs": [
    {
     "data": {
      "text/plain": [
       "[('A', 21), ('C', 13), ('D', 12), ('F', 31)]"
      ]
     },
     "execution_count": 11,
     "metadata": {},
     "output_type": "execute_result"
    }
   ],
   "source": [
    "# How to sort a dictionary\n",
    "\n",
    "dt={'A':21, 'D':12, 'F':31, 'C':13}\n",
    "\n",
    "#Sort a dictionary based on keys.\n",
    "\n",
    "sorted(dt.keys())"
   ]
  },
  {
   "cell_type": "code",
   "execution_count": 13,
   "id": "2161278e-a755-46fb-9dea-06bde653399a",
   "metadata": {},
   "outputs": [
    {
     "data": {
      "text/plain": [
       "[12, 13, 21, 31]"
      ]
     },
     "execution_count": 13,
     "metadata": {},
     "output_type": "execute_result"
    }
   ],
   "source": [
    "#Sort a dictionary based on values.\n",
    "\n",
    "sorted(dt.values())"
   ]
  },
  {
   "cell_type": "code",
   "execution_count": 15,
   "id": "87401fa3-c537-4064-b0dd-77b829502f93",
   "metadata": {},
   "outputs": [
    {
     "data": {
      "text/plain": [
       "[('A', 21), ('C', 13), ('D', 12), ('F', 31)]"
      ]
     },
     "execution_count": 15,
     "metadata": {},
     "output_type": "execute_result"
    }
   ],
   "source": [
    "# Sort a dictionary based on key-value pairs.\n",
    "\n",
    "sorted(dt.items())"
   ]
  },
  {
   "cell_type": "code",
   "execution_count": 17,
   "id": "04e36fd5-ef37-49c7-a42f-9bcbce37b982",
   "metadata": {},
   "outputs": [
    {
     "data": {
      "text/plain": [
       "[('D', 12), ('C', 13), ('A', 21), ('F', 31)]"
      ]
     },
     "execution_count": 17,
     "metadata": {},
     "output_type": "execute_result"
    }
   ],
   "source": [
    "sorted(dt.items(), key=lambda x:x[1])"
   ]
  },
  {
   "cell_type": "code",
   "execution_count": 19,
   "id": "45fb87ac-1cdd-4388-9b77-790e11241705",
   "metadata": {},
   "outputs": [
    {
     "name": "stdout",
     "output_type": "stream",
     "text": [
      "9\n"
     ]
    }
   ],
   "source": [
    "# Lambda Function.\n",
    "\n",
    "# Lambda fucntion is an anonymous function in python, that can be defined without a name.\n",
    "# A lambda function can have any number of arguments but should be written in a single expression.\n",
    "\n",
    "# Example - \n",
    "\n",
    "r=lambda x:x**2\n",
    "print(r(3))"
   ]
  },
  {
   "cell_type": "code",
   "execution_count": 21,
   "id": "2f17a934-70eb-42c9-bec9-456925646e28",
   "metadata": {},
   "outputs": [
    {
     "name": "stdout",
     "output_type": "stream",
     "text": [
      "15\n"
     ]
    }
   ],
   "source": [
    "add=lambda x,y:x+y   # Two parameters\n",
    "print(add(5,10))"
   ]
  },
  {
   "cell_type": "code",
   "execution_count": 23,
   "id": "63bc0982-0b3a-4742-b7ad-f1fe7074b84a",
   "metadata": {},
   "outputs": [
    {
     "name": "stdout",
     "output_type": "stream",
     "text": [
      "43\n"
     ]
    }
   ],
   "source": [
    "# Write a Lambda function to find largest between two numbers.\n",
    "\n",
    "largest=lambda x,y: x if x>y else y\n",
    "print(largest(43,24))"
   ]
  },
  {
   "cell_type": "code",
   "execution_count": null,
   "id": "c966438f-d45d-43b8-a022-97110c2bf5dd",
   "metadata": {},
   "outputs": [],
   "source": [
    "# A Lambda function with filter function.\n",
    "\n",
    "# filter(), map(), reduce()\n",
    "\n",
    "# FILTER:\n",
    "\n",
    "# A filter function in python takes a lambda function and a list as input. This allows us to filter out\n",
    "# all the necessary elements from the list for which the function returns TRUE."
   ]
  },
  {
   "cell_type": "code",
   "execution_count": 27,
   "id": "89f81068-e6bb-4102-b1ba-21555c9b9359",
   "metadata": {},
   "outputs": [
    {
     "name": "stdout",
     "output_type": "stream",
     "text": [
      "[1, 2, 3, 4, 5, 6, 7, 8, 9, 10]\n",
      "[2, 4, 6, 8, 10]\n"
     ]
    }
   ],
   "source": [
    "# Write a python program to take a list as input and return only the even numbers.\n",
    "\n",
    "ls=[x for x in range(1,11)]\n",
    "print(ls)\n",
    "\n",
    "even=list(filter(lambda x:(x%2==0), ls))\n",
    "print(even)"
   ]
  },
  {
   "cell_type": "code",
   "execution_count": 31,
   "id": "a9d56d5a-174c-4934-8acb-014a9f5013e7",
   "metadata": {},
   "outputs": [
    {
     "name": "stdout",
     "output_type": "stream",
     "text": [
      "[1, 4, 9, 16, 25, 36, 49, 64, 81, 100]\n"
     ]
    }
   ],
   "source": [
    "# MAP\n",
    "\n",
    "# Map function in python takes a lambda function and a list as input and returns a new list.\n",
    "# Which consists of all the modified items returned by that lambda function for each element of the given list.\n",
    "\n",
    "# Write a lambda function to produce square of all the elements of the given list.\n",
    "\n",
    "sqr=list(map(lambda x:x**2, ls))\n",
    "print(sqr)"
   ]
  },
  {
   "cell_type": "code",
   "execution_count": 35,
   "id": "b00ee338-9272-4a87-a1b1-56b863ddcc4f",
   "metadata": {},
   "outputs": [
    {
     "name": "stdout",
     "output_type": "stream",
     "text": [
      "55\n"
     ]
    }
   ],
   "source": [
    "# REDUCE\n",
    "\n",
    "# A reduce function takes a lambda function and list as input and returns a new reduced result.\n",
    "# This function performs as a representative function over each pair of elements of the given list.\n",
    "# Reduce function belongs to FUNCTOOLS package of python.\n",
    "\n",
    "# from functools import reduce ---------- Must import before using Reduce.\n",
    "\n",
    "# Write a lambda function to find the sum of all elements of the list.\n",
    "from functools import reduce\n",
    "s=reduce(lambda x,y:x+y, ls)\n",
    "print(s)"
   ]
  },
  {
   "cell_type": "code",
   "execution_count": 37,
   "id": "74ec7a3a-a214-4c08-b483-dbd982a897e0",
   "metadata": {},
   "outputs": [
    {
     "name": "stdout",
     "output_type": "stream",
     "text": [
      "10\n"
     ]
    }
   ],
   "source": [
    "# Write a lambda function to find the largest element of the given list.\n",
    "\n",
    "largest=reduce(lambda x,y:x if x>y else y, ls)\n",
    "print(largest)"
   ]
  },
  {
   "cell_type": "code",
   "execution_count": 43,
   "id": "6995c218-d285-4ad3-8899-bc346a40b0eb",
   "metadata": {},
   "outputs": [
    {
     "name": "stdout",
     "output_type": "stream",
     "text": [
      "Sum: 30  Difference:  10\n",
      "Sum is: 30, Difference is: 10\n"
     ]
    }
   ],
   "source": [
    "def compute(x,y):     # In python, function can return multiple values\n",
    "    s=x+y\n",
    "    d=x-y\n",
    "    return s,d\n",
    "r1, r2 = compute(20, 10)\n",
    "print(\"Sum:\",r1, \" Difference: \", r2)\n",
    "print(f\"Sum is: {r1}, Difference is: {r2}\")"
   ]
  },
  {
   "cell_type": "code",
   "execution_count": 45,
   "id": "cd6e4475-bac4-411a-91b0-514fda2bb443",
   "metadata": {},
   "outputs": [
    {
     "name": "stdout",
     "output_type": "stream",
     "text": [
      "10\n",
      "HI\n",
      "-2.5\n",
      "30\n"
     ]
    }
   ],
   "source": [
    "def fn(*args):                 # *args lets us take multiple arguments in a function.\n",
    "    for i in args:\n",
    "        print(i)\n",
    "\n",
    "fn(10, \"HI\", -2.5, 30)"
   ]
  },
  {
   "cell_type": "code",
   "execution_count": 47,
   "id": "2831ffb9-bb91-4550-83c3-4a800d318649",
   "metadata": {},
   "outputs": [
    {
     "name": "stdout",
     "output_type": "stream",
     "text": [
      "120\n"
     ]
    }
   ],
   "source": [
    "# Recursive Function\n",
    "\n",
    "def fact(x):\n",
    "    if x==0:\n",
    "        return 1\n",
    "    else:\n",
    "        return x*fact(x-1)\n",
    "\n",
    "r=fact(5)\n",
    "print(r)"
   ]
  },
  {
   "cell_type": "code",
   "execution_count": null,
   "id": "3735ad50-eb44-4de4-9864-8db53f097cc4",
   "metadata": {},
   "outputs": [],
   "source": [
    "# What is an Object?\n",
    "\n",
    "# An object is any real life entity in the world. \n",
    "# Example - Person, Pen, Bench, Mobile.\n",
    "\n",
    "# What is a Class?\n",
    "\n",
    "# A class is a collection of variables and methods that an object has. It is a template for building objects.\n",
    "# Whereas an object is an instance of a class.\n",
    "\n",
    "# CONSTRUCTOR\n",
    "\n",
    "# It initializes an object immediately upon creation. It has the same name of the class of which it resides.\n",
    "# Syntactically, it is similar with a method. It has no return type, not even void.\n"
   ]
  },
  {
   "cell_type": "code",
   "execution_count": null,
   "id": "9887f9a2-fe7a-4051-a772-c6b36624ff8d",
   "metadata": {},
   "outputs": [],
   "source": [
    "# METHOD OVERLOADING.\n",
    "# We can write two or more methods with the same name as long as their parameter declarations are different.\n",
    "\n",
    "# add(int, int)\n",
    "# add(float, float, float)\n",
    "\n",
    "# METHOD OVERRIDING\n",
    "# Two or more methods with a same name and their parameter declarations are same.\n",
    "\n",
    "# INHERITANCE\n",
    "\n",
    "#It is the mechanism, where the child class inherits from the parent class. It helps in concept of reusability.\n",
    "# It can be of different types.\n",
    "\n",
    "# 1. Single Inheritance\n",
    "# 2. Multi-Level Inheritance\n",
    "# 3. Multiple Inheritance\n",
    "# 4. Hierarchical Inheritance\n",
    "# 5. Hybrid Inheritance"
   ]
  }
 ],
 "metadata": {
  "kernelspec": {
   "display_name": "Python 3 (ipykernel)",
   "language": "python",
   "name": "python3"
  },
  "language_info": {
   "codemirror_mode": {
    "name": "ipython",
    "version": 3
   },
   "file_extension": ".py",
   "mimetype": "text/x-python",
   "name": "python",
   "nbconvert_exporter": "python",
   "pygments_lexer": "ipython3",
   "version": "3.12.7"
  }
 },
 "nbformat": 4,
 "nbformat_minor": 5
}
