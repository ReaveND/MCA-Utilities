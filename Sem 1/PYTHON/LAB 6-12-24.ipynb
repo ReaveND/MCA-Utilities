{
 "cells": [
  {
   "cell_type": "code",
   "execution_count": null,
   "id": "acadd2f5-466a-4d70-b14e-2759e8984c70",
   "metadata": {},
   "outputs": [],
   "source": [
    "# LAB Day 6-12-24\n",
    "\n",
    "#Q1. WAP to take a list of numbers as input and store the even and odd numbers separately in to different lists \n",
    "#(Using lmabda function)."
   ]
  },
  {
   "cell_type": "code",
   "execution_count": 1,
   "id": "4f7987bc-80d1-46bd-8919-f62b9e9c5397",
   "metadata": {},
   "outputs": [
    {
     "name": "stdout",
     "output_type": "stream",
     "text": [
      "Sorted list: [11, 12, 22, 25, 64]\n"
     ]
    }
   ],
   "source": [
    "def selectionsort(ls):\n",
    "    n=len(s)\n",
    "    for i in range(n):\n",
    "        min=ls[i]\n",
    "        loc=i\n",
    "        for j in range(i+1,n):\n",
    "            if(ls[j]<min):\n",
    "                min=ls[j]\n",
    "                loc=j\n",
    "            if(loc!=i):\n",
    "                ls[i]=ls[loc]\n",
    "                ls[loc]=temp\n",
    "\n",
    "if __name__ == \"__main__\":\n",
    "    ls=[]"
   ]
  },
  {
   "cell_type": "code",
   "execution_count": 21,
   "id": "cebe41bf-a0f2-4366-ae98-44a5af38b0b0",
   "metadata": {},
   "outputs": [
    {
     "name": "stdin",
     "output_type": "stream",
     "text": [
      "Enter the numbers to check:  48 18\n"
     ]
    },
    {
     "name": "stdout",
     "output_type": "stream",
     "text": [
      "the GCD of 48 and 18 is: 6\n"
     ]
    }
   ],
   "source": [
    "#Q.2. GCD of two numbers.\n",
    "\n",
    "def gcd(x,y):\n",
    "    if y==0:\n",
    "        return x\n",
    "    else:\n",
    "        return gcd(y,x%y)\n",
    "\n",
    "if __name__ == \"__main__\":\n",
    "    x,y=[int(c) for c in input(\"Enter the numbers to check: \").split()]\n",
    "    r=gcd(x,y)\n",
    "    print(f\"the GCD of {x} and {y} is: {r}\")"
   ]
  },
  {
   "cell_type": "code",
   "execution_count": 27,
   "id": "f5f4292c-c45d-4108-b735-26618fb18d56",
   "metadata": {},
   "outputs": [
    {
     "name": "stdin",
     "output_type": "stream",
     "text": [
      "Enter the number:  10\n"
     ]
    },
    {
     "name": "stdout",
     "output_type": "stream",
     "text": [
      "0 1 1 2 3 5 8 13 21 34 "
     ]
    }
   ],
   "source": [
    "#Q.3. Fibonacci Series Using Recursion\n",
    "\n",
    "def fibo(n):\n",
    "    if n<=0:\n",
    "        return 0\n",
    "    elif n==1:\n",
    "        return 1\n",
    "    else:\n",
    "        return (fibo(n-1) + fibo(n-2))\n",
    "\n",
    "if __name__ == \"__main__\":\n",
    "    num=int(input(\"Enter the number: \"))\n",
    "    for i in range(num):\n",
    "        print(fibo(i), end=\" \")"
   ]
  },
  {
   "cell_type": "code",
   "execution_count": 33,
   "id": "34fb9730-2654-4c53-b54f-491a73787fd4",
   "metadata": {},
   "outputs": [
    {
     "name": "stdin",
     "output_type": "stream",
     "text": [
      "Enter the number:  kolkata\n"
     ]
    },
    {
     "name": "stdout",
     "output_type": "stream",
     "text": [
      "{'k': 2, 'o': 1, 'l': 1, 'a': 2, 't': 1}\n",
      "The highest frequency letter is: k\n"
     ]
    }
   ],
   "source": [
    "#Q.4.\n",
    "string=input(\"Enter the number: \")\n",
    "dt={}\n",
    "for i in string:\n",
    "    if i in dt:\n",
    "        dt[i]+=1\n",
    "    else:\n",
    "        dt[i]=1\n",
    "\n",
    "print(dt)\n",
    "largest=max(dt,key=dt.get)\n",
    "print(f\"The highest frequency letter is: {largest}\")"
   ]
  },
  {
   "cell_type": "code",
   "execution_count": 41,
   "id": "98e910ac-faa2-4a99-98e5-9d25c8cabfed",
   "metadata": {},
   "outputs": [
    {
     "name": "stdout",
     "output_type": "stream",
     "text": [
      "The Even numbers are: [2, 4, 6, 8, 10, 12, 14, 16, 18, 20]\n",
      "The Odd numbers are: [1, 3, 5, 7, 9, 11, 13, 15, 17, 19]\n"
     ]
    }
   ],
   "source": [
    "#Q.5. \n",
    "\n",
    "ls=[x for x in range(1,21)]\n",
    "ls\n",
    "lseven=[]\n",
    "lsodd=[]\n",
    "for i in ls:\n",
    "    if i % 2 == 0:\n",
    "        lseven.append(i)\n",
    "    else:\n",
    "        lsodd.append(i)\n",
    "\n",
    "print(f\"The Even numbers are: {lseven}\")\n",
    "print(f\"The Odd numbers are: {lsodd}\")"
   ]
  },
  {
   "cell_type": "code",
   "execution_count": 43,
   "id": "98d3c26f-9ae0-456f-8c66-41429bf6d77c",
   "metadata": {},
   "outputs": [
    {
     "name": "stdout",
     "output_type": "stream",
     "text": [
      "Even list is: [2, 4, 6, 8, 10, 12, 14, 16, 18, 20]\n",
      "Odd list is: [1, 3, 5, 7, 9, 11, 13, 15, 17, 19]\n"
     ]
    }
   ],
   "source": [
    "#Q.6. Using Lambda Function\n",
    "\n",
    "ls=[x for x in range(1,21)]\n",
    "ls\n",
    "\n",
    "even=list(filter(lambda x:(x%2==0), ls))\n",
    "odd=list(filter(lambda x:(x%2!=0), ls))\n",
    "\n",
    "print(f\"Even list is: {even}\")\n",
    "print(f\"Odd list is: {odd}\")"
   ]
  }
 ],
 "metadata": {
  "kernelspec": {
   "display_name": "Python 3 (ipykernel)",
   "language": "python",
   "name": "python3"
  },
  "language_info": {
   "codemirror_mode": {
    "name": "ipython",
    "version": 3
   },
   "file_extension": ".py",
   "mimetype": "text/x-python",
   "name": "python",
   "nbconvert_exporter": "python",
   "pygments_lexer": "ipython3",
   "version": "3.12.7"
  }
 },
 "nbformat": 4,
 "nbformat_minor": 5
}
