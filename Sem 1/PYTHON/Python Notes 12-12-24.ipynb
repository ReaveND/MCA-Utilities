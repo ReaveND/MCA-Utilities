{
 "cells": [
  {
   "cell_type": "code",
   "execution_count": 5,
   "id": "097ec5b2-b7f6-4230-8689-98024e029785",
   "metadata": {},
   "outputs": [
    {
     "name": "stdout",
     "output_type": "stream",
     "text": [
      "Value of x: 10, Value of y: 20, Value of z: 30\n"
     ]
    }
   ],
   "source": [
    "# PYTHON NOTES 12-12-24\n",
    "\n",
    "#Class and Object in python\n",
    "\n",
    "class Myclass:\n",
    "    x=0 # By default it is public\n",
    "    _y=0 # Protected variable in python\n",
    "    __z=0 # Private variable\n",
    "    def __init__(self, a, b, c): # Parameterized Constructor\n",
    "        self.x=a\n",
    "        self.y=b\n",
    "        self.z=c\n",
    "    def display(self): #First parameter should be self. Acts likes \"this\" in Java.\n",
    "        print(f\"Value of x: {self.x}, Value of y: {self.y}, Value of z: {self.z}\")\n",
    "        \n",
    "\n",
    "if __name__==\"__main__\":\n",
    "    obj=Myclass(10, 20, 30) # Calls the default constructor of that class.\n",
    "    obj.display()\n",
    "    \n",
    "# Public access specifier - Makes field visible anywhere in the program\n",
    "# Private cannot be accessed from outside the class. \n",
    "# Does not partitcipate in inheritance.\n",
    "# Protected acts like a dat amember of its own class. Participates in inheritance."
   ]
  },
  {
   "cell_type": "code",
   "execution_count": 9,
   "id": "93b332bf-6e2c-4e9e-8df3-20e4fd73478f",
   "metadata": {},
   "outputs": [
    {
     "name": "stdout",
     "output_type": "stream",
     "text": [
      "This is inside the Base class.\n",
      "10 20\n",
      "This is inside the Child class.\n",
      "This is inside the Base class.\n",
      "15 30\n",
      "45\n"
     ]
    }
   ],
   "source": [
    "# Inheritance in Python\n",
    "\n",
    "class Base:\n",
    "    x=0\n",
    "    _y=0\n",
    "    def __init__(self, a, b):\n",
    "        self.x=a\n",
    "        self.y=b\n",
    "    def display(self):\n",
    "        print(f\"This is inside the Base class.\")\n",
    "        print(self.x, self.y)\n",
    "\n",
    "class Child(Base):\n",
    "    z=0\n",
    "    def __init__(self, a, b, c):\n",
    "        Base.__init__(self, a, b) #super().__init__(a,b)\n",
    "        self.z=c\n",
    "    def display(self):\n",
    "        print(f\"This is inside the Child class.\")\n",
    "        super().display() \n",
    "# This is how we can call the base class display method from the child class.\n",
    "        print(self.z)\n",
    "\n",
    "if __name__==\"__main__\":\n",
    "    obj1=Base(10, 20)\n",
    "    obj2=Child(15, 30, 45)\n",
    "    obj1.display()\n",
    "    obj2.display()\n",
    "# If your Base class consists of a constructor then \n",
    "# it is mandatory to define a constructor in the subsequent child classes.\n",
    "# The Super keyword helps us to call the base class constructor."
   ]
  },
  {
   "cell_type": "code",
   "execution_count": 8,
   "id": "5542b841-6b51-4384-b5f8-dc6d240d1312",
   "metadata": {},
   "outputs": [
    {
     "name": "stdout",
     "output_type": "stream",
     "text": [
      "Sayan\n",
      "10\n",
      "Sourav 20 80\n"
     ]
    }
   ],
   "source": [
    "# Multiple Inheritance in Python\n",
    "\n",
    "class Base1:\n",
    "    def __init__(self, a,):\n",
    "        self.name=a\n",
    "    def display1(self):\n",
    "        print(self.name)\n",
    "\n",
    "class Base2:\n",
    "    def __init__(self, b):\n",
    "        self.roll=b\n",
    "    def display2(self):\n",
    "        print(self.roll)\n",
    "\n",
    "class Child(Base1, Base2):\n",
    "    def __init__(self, a, b, c):\n",
    "        Base1.__init__(self, a)\n",
    "        Base2.__init__(self, b)\n",
    "        self.marks=c\n",
    "    def display(self):\n",
    "        print(self.name, self.roll, self.marks)\n",
    "\n",
    "if __name__==\"__main__\":\n",
    "    ob1=Base1(\"Sayan\")\n",
    "    ob2=Base2(10)\n",
    "    ob3=Child(\"Sourav\", 20, 80)\n",
    "    ob1.display1()\n",
    "    ob2.display2()\n",
    "    ob3.display()"
   ]
  }
 ],
 "metadata": {
  "kernelspec": {
   "display_name": "Python 3 (ipykernel)",
   "language": "python",
   "name": "python3"
  },
  "language_info": {
   "codemirror_mode": {
    "name": "ipython",
    "version": 3
   },
   "file_extension": ".py",
   "mimetype": "text/x-python",
   "name": "python",
   "nbconvert_exporter": "python",
   "pygments_lexer": "ipython3",
   "version": "3.12.7"
  }
 },
 "nbformat": 4,
 "nbformat_minor": 5
}
